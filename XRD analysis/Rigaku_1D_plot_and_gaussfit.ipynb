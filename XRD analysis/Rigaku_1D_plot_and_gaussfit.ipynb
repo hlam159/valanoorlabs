{
 "cells": [
  {
   "cell_type": "code",
   "execution_count": 1,
   "metadata": {},
   "outputs": [],
   "source": [
    "def ras_file( file ):\n",
    "    # Read RAS data to object\n",
    "    rasFile = xu.io.rigaku_ras.RASFile(file)\n",
    "        \n",
    "    self.scanaxis = rasFile.scans.scan_axis\n",
    "    self.stepSize = rasFile.scans.meas_step\n",
    "    self.measureSpeed= rasFile.scans.meas_speed\n",
    "    self.dataCount = rasFile.scans.length\n",
    "    # Read raw motor position and intensity data to large 1D arrays\n",
    "\n",
    "    ax1, data = xu.io.getras_scan(rasFile.filename+'%s', '', self.scanaxis)\n",
    "\n",
    "    npinte = np.array(data['int'])\n",
    "    \n",
    "    \n",
    "    # Read omega data from motor positions at the start of each 2theta-Omega scan\n",
    "    om = [rasFile.scans[i].init_mopo['Omega'] for i in range(0, len(rasFile.scans))]\n",
    "    # Convert 2theta-omega data to 1D array\n",
    "    \n",
    "    return (np.transpose(omga), np.transpose(tt), np.transpose(intensities))"
   ]
  },
  {
   "cell_type": "code",
   "execution_count": null,
   "metadata": {},
   "outputs": [],
   "source": []
  },
  {
   "cell_type": "code",
   "execution_count": 2,
   "metadata": {},
   "outputs": [
    {
     "ename": "NameError",
     "evalue": "name 'filepath' is not defined",
     "output_type": "error",
     "traceback": [
      "\u001b[1;31m---------------------------------------------------------------------------\u001b[0m",
      "\u001b[1;31mNameError\u001b[0m                                 Traceback (most recent call last)",
      "\u001b[1;32m<ipython-input-2-517e8ec701a4>\u001b[0m in \u001b[0;36m<module>\u001b[1;34m\u001b[0m\n\u001b[1;32m----> 1\u001b[1;33m \u001b[0mprint\u001b[0m\u001b[1;33m(\u001b[0m\u001b[0mfilepath\u001b[0m\u001b[1;33m[\u001b[0m\u001b[1;33m:\u001b[0m\u001b[1;33m-\u001b[0m\u001b[1;36m4\u001b[0m\u001b[1;33m]\u001b[0m\u001b[1;33m)\u001b[0m\u001b[1;33m\u001b[0m\u001b[1;33m\u001b[0m\u001b[0m\n\u001b[0m",
      "\u001b[1;31mNameError\u001b[0m: name 'filepath' is not defined"
     ]
    }
   ],
   "source": [
    "print(filepath[:-4])"
   ]
  },
  {
   "cell_type": "code",
   "execution_count": 1,
   "metadata": {},
   "outputs": [
    {
     "ename": "IndexError",
     "evalue": "list index out of range",
     "output_type": "error",
     "traceback": [
      "\u001b[1;31m---------------------------------------------------------------------------\u001b[0m",
      "\u001b[1;31mIndexError\u001b[0m                                Traceback (most recent call last)",
      "\u001b[1;32m<ipython-input-1-2ad264bb5d42>\u001b[0m in \u001b[0;36m<module>\u001b[1;34m\u001b[0m\n\u001b[0;32m     13\u001b[0m \u001b[1;31m#file = r'C:\\Users\\olive\\OneDrive - UNSW\\Experiments 2019\\Xrays\\VG180301\\VG180301_rockingCurve_alignment.ras'\u001b[0m\u001b[1;33m\u001b[0m\u001b[1;33m\u001b[0m\u001b[1;33m\u001b[0m\u001b[0m\n\u001b[0;32m     14\u001b[0m \u001b[0mrasFile\u001b[0m \u001b[1;33m=\u001b[0m \u001b[0mxu\u001b[0m\u001b[1;33m.\u001b[0m\u001b[0mio\u001b[0m\u001b[1;33m.\u001b[0m\u001b[0mrigaku_ras\u001b[0m\u001b[1;33m.\u001b[0m\u001b[0mRASFile\u001b[0m\u001b[1;33m(\u001b[0m\u001b[0mfilepath\u001b[0m\u001b[1;33m)\u001b[0m\u001b[1;33m\u001b[0m\u001b[1;33m\u001b[0m\u001b[0m\n\u001b[1;32m---> 15\u001b[1;33m \u001b[0max1\u001b[0m\u001b[1;33m,\u001b[0m \u001b[0mdata\u001b[0m \u001b[1;33m=\u001b[0m \u001b[0mxu\u001b[0m\u001b[1;33m.\u001b[0m\u001b[0mio\u001b[0m\u001b[1;33m.\u001b[0m\u001b[0mgetras_scan\u001b[0m\u001b[1;33m(\u001b[0m\u001b[0mrasFile\u001b[0m\u001b[1;33m.\u001b[0m\u001b[0mfilename\u001b[0m\u001b[1;33m+\u001b[0m\u001b[1;34m'%s'\u001b[0m\u001b[1;33m,\u001b[0m \u001b[1;34m''\u001b[0m\u001b[1;33m,\u001b[0m \u001b[0mrasFile\u001b[0m\u001b[1;33m.\u001b[0m\u001b[0mscans\u001b[0m\u001b[1;33m[\u001b[0m\u001b[1;36m0\u001b[0m\u001b[1;33m]\u001b[0m\u001b[1;33m.\u001b[0m\u001b[0mscan_axis\u001b[0m\u001b[1;33m)\u001b[0m\u001b[1;33m\u001b[0m\u001b[1;33m\u001b[0m\u001b[0m\n\u001b[0m\u001b[0;32m     16\u001b[0m \u001b[0mget_ipython\u001b[0m\u001b[1;33m(\u001b[0m\u001b[1;33m)\u001b[0m\u001b[1;33m.\u001b[0m\u001b[0mrun_line_magic\u001b[0m\u001b[1;33m(\u001b[0m\u001b[1;34m'matplotlib'\u001b[0m\u001b[1;33m,\u001b[0m \u001b[1;34m'widget'\u001b[0m\u001b[1;33m)\u001b[0m\u001b[1;33m\u001b[0m\u001b[1;33m\u001b[0m\u001b[0m\n\u001b[0;32m     17\u001b[0m \u001b[0mfig\u001b[0m\u001b[1;33m,\u001b[0m \u001b[0max\u001b[0m \u001b[1;33m=\u001b[0m \u001b[0mplt\u001b[0m\u001b[1;33m.\u001b[0m\u001b[0msubplots\u001b[0m\u001b[1;33m(\u001b[0m\u001b[1;33m)\u001b[0m\u001b[1;33m\u001b[0m\u001b[1;33m\u001b[0m\u001b[0m\n",
      "\u001b[1;31mIndexError\u001b[0m: list index out of range"
     ]
    }
   ],
   "source": [
    "import xrayutilities as xu\n",
    "import matplotlib.pyplot as plt\n",
    "import numpy as np\n",
    "import tkinter as tk\n",
    "from tkinter import filedialog\n",
    "import os\n",
    "\n",
    "root = tk.Tk()\n",
    "root.withdraw()\n",
    "filepath = filedialog.askopenfilename()\n",
    "filename = os.path.basename(filepath)\n",
    "\n",
    "#file = r'C:\\Users\\olive\\OneDrive - UNSW\\Experiments 2019\\Xrays\\VG180301\\VG180301_rockingCurve_alignment.ras'\n",
    "rasFile = xu.io.rigaku_ras.RASFile(filepath)\n",
    "ax1, data = xu.io.getras_scan(rasFile.filename+'%s', '', rasFile.scans[0].scan_axis)\n",
    "%matplotlib widget\n",
    "fig, ax = plt.subplots()\n",
    "#Q = 4 * np.pi/1.54 * np.sin(np.radians(ax1/2))\n",
    "\n",
    "ax.plot(data['Omega'], data['int']*data['att'], label='Data', color = 'black')\n",
    "ax.set_xlabel( 'Omega (degrees)')\n",
    "ax.set_ylabel( 'Intensity (a.u.)')\n",
    "#ax.set_yscale('log')\n",
    "#ax.set_xlim(15,115)\n",
    "#ax.set_yscale('log')\n",
    "plt.savefig( filepath[:-4] + '.svg', transparent=True)\n",
    "\n",
    "print(filename)"
   ]
  },
  {
   "cell_type": "code",
   "execution_count": 5,
   "metadata": {},
   "outputs": [
    {
     "data": {
      "application/vnd.jupyter.widget-view+json": {
       "model_id": "f3ca1009c6b9481aa500e856fe05adc2",
       "version_major": 2,
       "version_minor": 0
      },
      "text/plain": [
       "Canvas(toolbar=Toolbar(toolitems=[('Home', 'Reset original view', 'home', 'home'), ('Back', 'Back to previous …"
      ]
     },
     "metadata": {},
     "output_type": "display_data"
    },
    {
     "name": "stdout",
     "output_type": "stream",
     "text": [
      "P0031bCL_2theta.ras\n"
     ]
    }
   ],
   "source": [
    "import xrayutilities as xu\n",
    "import matplotlib.pyplot as plt\n",
    "import numpy as np\n",
    "import tkinter as tk\n",
    "from tkinter import filedialog\n",
    "import os\n",
    "\n",
    "\n",
    "root = tk.Tk()\n",
    "root.withdraw()\n",
    "filepath = filedialog.askopenfilename()\n",
    "filename = os.path.basename(filepath)\n",
    "\n",
    "#file = r'C:\\Users\\olive\\OneDrive - UNSW\\Experiments 2019\\Xrays\\VG180301\\VG180301_rockingCurve_alignment.ras'\n",
    "rasFile = xu.io.rigaku_ras.RASFile(filepath)\n",
    "ax1, data = xu.io.getras_scan(rasFile.filename+'%s', '', rasFile.scans[0].scan_axis)\n",
    "%matplotlib widget\n",
    "fig, ax = plt.subplots()\n",
    "#Q = 4 * np.pi/1.54 * np.sin(np.radians(ax1/2))\n",
    "\n",
    "ax.plot(data['TwoThetaOmega'], data['int']*data['att'], label='Data', color = 'black')\n",
    "ax.set_xlabel( '2Theta (degrees)')\n",
    "ax.set_ylabel( 'Intensity (a.u.)')\n",
    "ax.set_yscale('log')\n",
    "ax.set_xlim(15,115)\n",
    "#ax.set_yscale('log')\n",
    "plt.savefig( filepath[:-4] + '.svg', transparent=True)\n",
    "\n",
    "print(filename)\n"
   ]
  },
  {
   "cell_type": "code",
   "execution_count": 17,
   "metadata": {},
   "outputs": [
    {
     "name": "stdout",
     "output_type": "stream",
     "text": [
      "FWHM = 0.29298978564419187\n"
     ]
    }
   ],
   "source": [
    "params, sd_params, itlim = xu.math.fit.peak_fit(ax1, data['int']*data['att'], iparams=[], maxit=3000, peaktype='Lorentz')\n",
    "\n",
    "ax.plot(ax1, xu.math.Gauss1d(ax1, *params), label='Lorentz fit')\n",
    "ax.legend()\n",
    "fwhm = xu.math.fit.fwhm_exp(ax1, xu.math.Gauss1d(ax1, *params))\n",
    "print('FWHM = ' + str(fwhm))\n",
    "ax.text(16.2,10000, 'FWHM = '+ \"{:.2f}\".format(fwhm))\n",
    "plt.savefig( filepath[:-4] + '.svg', transparent=True)"
   ]
  },
  {
   "cell_type": "code",
   "execution_count": 3,
   "metadata": {},
   "outputs": [
    {
     "ename": "NameError",
     "evalue": "name 'tk' is not defined",
     "output_type": "error",
     "traceback": [
      "\u001b[1;31m---------------------------------------------------------------------------\u001b[0m",
      "\u001b[1;31mNameError\u001b[0m                                 Traceback (most recent call last)",
      "\u001b[1;32m<ipython-input-3-e177c524ca21>\u001b[0m in \u001b[0;36m<module>\u001b[1;34m\u001b[0m\n\u001b[1;32m----> 1\u001b[1;33m \u001b[0mroot\u001b[0m \u001b[1;33m=\u001b[0m \u001b[0mtk\u001b[0m\u001b[1;33m.\u001b[0m\u001b[0mTk\u001b[0m\u001b[1;33m(\u001b[0m\u001b[1;33m)\u001b[0m\u001b[1;33m\u001b[0m\u001b[1;33m\u001b[0m\u001b[0m\n\u001b[0m\u001b[0;32m      2\u001b[0m \u001b[0mroot\u001b[0m\u001b[1;33m.\u001b[0m\u001b[0mwithdraw\u001b[0m\u001b[1;33m(\u001b[0m\u001b[1;33m)\u001b[0m\u001b[1;33m\u001b[0m\u001b[1;33m\u001b[0m\u001b[0m\n\u001b[0;32m      3\u001b[0m \u001b[0mfilepath\u001b[0m \u001b[1;33m=\u001b[0m \u001b[0mfiledialog\u001b[0m\u001b[1;33m.\u001b[0m\u001b[0maskopenfilename\u001b[0m\u001b[1;33m(\u001b[0m\u001b[1;33m)\u001b[0m\u001b[1;33m\u001b[0m\u001b[1;33m\u001b[0m\u001b[0m\n\u001b[0;32m      4\u001b[0m \u001b[0mfilename\u001b[0m \u001b[1;33m=\u001b[0m \u001b[0mos\u001b[0m\u001b[1;33m.\u001b[0m\u001b[0mpath\u001b[0m\u001b[1;33m.\u001b[0m\u001b[0mbasename\u001b[0m\u001b[1;33m(\u001b[0m\u001b[0mfilepath\u001b[0m\u001b[1;33m)\u001b[0m\u001b[1;33m\u001b[0m\u001b[1;33m\u001b[0m\u001b[0m\n\u001b[0;32m      5\u001b[0m \u001b[1;33m\u001b[0m\u001b[0m\n",
      "\u001b[1;31mNameError\u001b[0m: name 'tk' is not defined"
     ]
    }
   ],
   "source": [
    "root = tk.Tk()\n",
    "root.withdraw()\n",
    "filepath = filedialog.askopenfilename()\n",
    "filename = os.path.basename(filepath)\n",
    "\n",
    "rasFile = xu.io.rigaku_ras.RASFile(filepath)\n",
    "tt_om, data = xu.io.getras_scan(rasFile.filename+'%s', '', rasFile.scans[0].scan_axis)\n",
    "\n",
    "%matplotlib widget\n",
    "fig, ax = plt.subplots()\n",
    "inte = data['int']*data['att']\n",
    "ax.plot(tt_om, inte)\n",
    "ax.set_xlabel('2theta-Omega (degrees)')\n",
    "ax.set_ylabel('Intensity (a.u.)')\n",
    "ax.set_yscale('log')\n",
    "ax.set_title('Thick T-phase')"
   ]
  },
  {
   "cell_type": "code",
   "execution_count": null,
   "metadata": {},
   "outputs": [],
   "source": []
  }
 ],
 "metadata": {
  "kernelspec": {
   "display_name": "Python 3",
   "language": "python",
   "name": "python3"
  },
  "language_info": {
   "codemirror_mode": {
    "name": "ipython",
    "version": 3
   },
   "file_extension": ".py",
   "mimetype": "text/x-python",
   "name": "python",
   "nbconvert_exporter": "python",
   "pygments_lexer": "ipython3",
   "version": "3.7.6"
  }
 },
 "nbformat": 4,
 "nbformat_minor": 4
}
